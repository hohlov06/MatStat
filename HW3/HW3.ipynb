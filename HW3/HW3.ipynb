{
 "cells": [
  {
   "cell_type": "markdown",
   "metadata": {},
   "source": [
    "### Домашнее задание 3 \"Основы статистики\""
   ]
  },
  {
   "cell_type": "markdown",
   "metadata": {},
   "source": [
    "# 3.3\n",
    "\n",
    "https://www.itl.nist.gov/div898/software/dataplot/refman1/auxillar/binotest.htm"
   ]
  },
  {
   "cell_type": "code",
   "execution_count": 1,
   "metadata": {},
   "outputs": [],
   "source": [
    "import numpy as np\n",
    "import scipy as sp\n",
    "import matplotlib\n",
    "import matplotlib.pyplot as plt\n",
    "import random\n",
    "\n",
    "%matplotlib inline\n",
    "from scipy.stats import gamma, norm"
   ]
  },
  {
   "cell_type": "code",
   "execution_count": 2,
   "metadata": {},
   "outputs": [],
   "source": [
    "samples_count = 1000\n",
    "iters_count = 10000\n",
    "\n",
    "#h0_a = 2.0\n",
    "#h0_scale = 0.5\n",
    "#h0_samples = gamma.rvs(a=h0_a, scale=h0_scale, size=(iters_count, samples_count))"
   ]
  },
  {
   "cell_type": "code",
   "execution_count": 3,
   "metadata": {},
   "outputs": [],
   "source": [
    "placebo = (80, 45)\n",
    "theta_placebo = 45/80 \n",
    "\n",
    "chlor = (75, 26)\n",
    "hydrin = (85,52)\n",
    "pen100 = (67,35)\n",
    "pen150 = (85,37)"
   ]
  },
  {
   "cell_type": "code",
   "execution_count": 4,
   "metadata": {},
   "outputs": [],
   "source": [
    "def make_sample(n1, n2):\n",
    "    sample = np.zeros(n1)\n",
    "    for i in range(n2):\n",
    "        sample[i] = 1\n",
    "    random.shuffle(sample)\n",
    "    return np.array(sample)\n",
    "\n",
    "placebo_samp = make_sample(placebo[0], placebo[1])\n",
    "chlor_samp = make_sample(chlor[0], chlor[1])\n",
    "hydrin_samp = make_sample(hydrin[0], hydrin[1])\n",
    "pen100_samp = make_sample(pen100[0], pen100[1])\n",
    "pen150_samp = make_sample(pen150[0], pen150[1])"
   ]
  },
  {
   "cell_type": "code",
   "execution_count": 5,
   "metadata": {},
   "outputs": [],
   "source": [
    "alpha = 0.05\n",
    "norm_threshold = norm.ppf(1.0 - 0.5 * alpha)"
   ]
  },
  {
   "cell_type": "code",
   "execution_count": 6,
   "metadata": {},
   "outputs": [],
   "source": [
    "#одна выборка\n",
    "def calc_wald_statistics(X, samples_count, assumed_mean):\n",
    "    X = np.array(X)[: samples_count]\n",
    "    n = len(X) \n",
    "    return (X.sum() - n * assumed_mean) / np.sqrt(n * X.var(ddof=1))\n",
    "\n",
    "chlor_wald = calc_wald_statistics(chlor_samp, len(chlor_samp), theta_placebo)\n",
    "hydrin_wald = calc_wald_statistics(hydrin_samp, len(hydrin_samp), theta_placebo)\n",
    "pen100_wald = calc_wald_statistics(pen100_samp, len(pen100_samp), theta_placebo)\n",
    "pen150_wald = calc_wald_statistics(pen150_samp, len(pen150_samp), theta_placebo)"
   ]
  },
  {
   "cell_type": "code",
   "execution_count": 7,
   "metadata": {},
   "outputs": [
    {
     "name": "stdout",
     "output_type": "stream",
     "text": [
      "3.9013141893272527\n",
      "True\n"
     ]
    }
   ],
   "source": [
    "# Chlorpromazine\n",
    "\n",
    "print(np.abs(chlor_wald))\n",
    "print(np.abs(chlor_wald) > norm_threshold) # "
   ]
  },
  {
   "cell_type": "markdown",
   "metadata": {},
   "source": [
    "Успешно"
   ]
  },
  {
   "cell_type": "code",
   "execution_count": 8,
   "metadata": {
    "scrolled": true
   },
   "outputs": [
    {
     "name": "stdout",
     "output_type": "stream",
     "text": [
      "0.926479515131361\n",
      "False\n"
     ]
    }
   ],
   "source": [
    "# Dimenhydrinate\n",
    "print(np.abs(hydrin_wald))\n",
    "print(np.abs(hydrin_wald) > norm_threshold)"
   ]
  },
  {
   "cell_type": "markdown",
   "metadata": {},
   "source": [
    "неуспешно"
   ]
  },
  {
   "cell_type": "code",
   "execution_count": 9,
   "metadata": {
    "scrolled": true
   },
   "outputs": [
    {
     "name": "stdout",
     "output_type": "stream",
     "text": [
      "0.6523962099308539\n",
      "False\n"
     ]
    }
   ],
   "source": [
    "# Phenobarbital 100 mg\n",
    "print(np.abs(pen100_wald))\n",
    "print(np.abs(pen100_wald) > norm_threshold)"
   ]
  },
  {
   "cell_type": "markdown",
   "metadata": {},
   "source": [
    "неуспешно"
   ]
  },
  {
   "cell_type": "code",
   "execution_count": 10,
   "metadata": {},
   "outputs": [
    {
     "name": "stdout",
     "output_type": "stream",
     "text": [
      "2.351496208210791\n",
      "True\n"
     ]
    }
   ],
   "source": [
    "# Phenobarbital 150 mg\n",
    "print(np.abs(pen150_wald))\n",
    "print(np.abs(pen150_wald) > norm_threshold)"
   ]
  },
  {
   "cell_type": "markdown",
   "metadata": {},
   "source": [
    "успешно"
   ]
  }
 ],
 "metadata": {
  "anaconda-cloud": {},
  "kernelspec": {
   "display_name": "Python 3",
   "language": "python",
   "name": "python3"
  },
  "language_info": {
   "codemirror_mode": {
    "name": "ipython",
    "version": 3
   },
   "file_extension": ".py",
   "mimetype": "text/x-python",
   "name": "python",
   "nbconvert_exporter": "python",
   "pygments_lexer": "ipython3",
   "version": "3.7.2"
  }
 },
 "nbformat": 4,
 "nbformat_minor": 1
}
